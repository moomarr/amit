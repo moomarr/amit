{
 "cells": [
  {
   "cell_type": "code",
   "execution_count": 23,
   "id": "49e17d6a",
   "metadata": {},
   "outputs": [
    {
     "name": "stdout",
     "output_type": "stream",
     "text": [
      "enter the G6.67\n",
      "enter the M_earth6.0\n",
      "enter the m_moon7.34\n",
      "enter the r3.84\n",
      "1.9920979817708334e-26\n"
     ]
    }
   ],
   "source": [
    "#G= 6.67*10**-11\n",
    "#M earth= 6.0*10**24\n",
    "#m moon= 7.34*10**22\n",
    "#r=3.84*10**8\n",
    "#the formula is GMm/r**2\n",
    "G= float(input(\"enter the G\"))\n",
    "M_E= float(input(\"enter the M_earth\"))\n",
    "M_m= float(input(\"enter the m_moon\"))\n",
    "r= float(input(\"enter the r\"))\n",
    "G= G*10**-11\n",
    "M_earth= M_earth*10**24\n",
    "m_moon= m_moon*10**22\n",
    "r=r*10**8\n",
    "#choose= input(\"calculate FG? Yes/No\")\n",
    "#if choose== \"yes\":\n",
    "print(f\"{(G*M_E*M_m)/(r**2)}\")\n",
    "#else:\n",
    "          #print(\"error\")"
   ]
  },
  {
   "cell_type": "code",
   "execution_count": null,
   "id": "1cf7bc3e",
   "metadata": {},
   "outputs": [],
   "source": []
  }
 ],
 "metadata": {
  "kernelspec": {
   "display_name": "Python 3 (ipykernel)",
   "language": "python",
   "name": "python3"
  },
  "language_info": {
   "codemirror_mode": {
    "name": "ipython",
    "version": 3
   },
   "file_extension": ".py",
   "mimetype": "text/x-python",
   "name": "python",
   "nbconvert_exporter": "python",
   "pygments_lexer": "ipython3",
   "version": "3.10.9"
  }
 },
 "nbformat": 4,
 "nbformat_minor": 5
}
